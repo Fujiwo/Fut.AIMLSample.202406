{
  "cells": [
    {
      "cell_type": "code",
      "source": [
        "# coding: UTF-8\r\n",
        "from sklearn import datasets\r\n",
        "from sklearn import svm\r\n",
        "from sklearn import metrics\r\n",
        "import matplotlib.pyplot as plt"
      ],
      "outputs": [],
      "execution_count": null,
      "metadata": {
        "gather": {
          "logged": 1656921756878
        }
      }
    },
    {
      "cell_type": "code",
      "source": [
        "# 数字データの読み込み\r\n",
        "digits = datasets.load_digits()"
      ],
      "outputs": [],
      "execution_count": null,
      "metadata": {
        "jupyter": {
          "source_hidden": false,
          "outputs_hidden": false
        },
        "nteract": {
          "transient": {
            "deleting": false
          }
        },
        "gather": {
          "logged": 1656921756911
        }
      }
    },
    {
      "cell_type": "code",
      "source": [
        "# 数字データの表示 (一部)\r\n",
        "images_and_labels = list(zip(digits.images, digits.target))\r\n",
        "for index, (image, label) in enumerate(images_and_labels[:10]):\r\n",
        "    plt.subplot(2, 5, index + 1)\r\n",
        "    plt.imshow(image, cmap=plt.cm.gray_r, interpolation='nearest')\r\n",
        "    plt.axis('off')\r\n",
        "    plt.title('Training: %i' % label)\r\n",
        "plt.show()"
      ],
      "outputs": [],
      "execution_count": null,
      "metadata": {
        "jupyter": {
          "source_hidden": false,
          "outputs_hidden": false
        },
        "nteract": {
          "transient": {
            "deleting": false
          }
        },
        "gather": {
          "logged": 1656921756932
        }
      }
    },
    {
      "cell_type": "code",
      "source": [
        "# データ数\r\n",
        "data_number = len(digits.data)\r\n",
        "# 学習用データ数 (6割のデータを使用、残りの4割は検証用)\r\n",
        "sample_number = int(data_number * 6 / 10)\r\n",
        "# 検証用データ数 (6割のデータを使用、残りの4割は検証用)\r\n",
        "test_number = data_number - sample_number\r\n"
      ],
      "outputs": [],
      "execution_count": null,
      "metadata": {
        "jupyter": {
          "source_hidden": false,
          "outputs_hidden": false
        },
        "nteract": {
          "transient": {
            "deleting": false
          }
        },
        "gather": {
          "logged": 1656921756958
        }
      }
    },
    {
      "cell_type": "code",
      "source": [
        "# サポート ベクター マシーン\r\n",
        "clf = svm.SVC(gamma = 0.001, C = 100.0)\r\n",
        "# サポート ベクター マシーンによる訓練\r\n",
        "clf.fit(digits.data[:sample_number], digits.target[:sample_number])\r\n"
      ],
      "outputs": [],
      "execution_count": null,
      "metadata": {
        "jupyter": {
          "source_hidden": false,
          "outputs_hidden": false
        },
        "nteract": {
          "transient": {
            "deleting": false
          }
        },
        "gather": {
          "logged": 1656921756987
        }
      }
    },
    {
      "cell_type": "code",
      "source": [
        "# 残り4割のデータから、数字を読み取る\r\n",
        "# 正解\r\n",
        "expected = digits.target[-test_number:]\r\n",
        "# 予測\r\n",
        "predited = clf.predict(digits.data[-test_number:])\r\n",
        "# 正解率\r\n",
        "print(metrics.classification_report(expected, predited))\r\n",
        "# 誤認識のマトリックス\r\n",
        "print(metrics.confusion_matrix(expected, predited))\r\n"
      ],
      "outputs": [],
      "execution_count": null,
      "metadata": {
        "jupyter": {
          "source_hidden": false,
          "outputs_hidden": false
        },
        "nteract": {
          "transient": {
            "deleting": false
          }
        },
        "gather": {
          "logged": 1656921756997
        }
      }
    },
    {
      "cell_type": "code",
      "source": [
        "# 予測と画像の対応 (一部)\r\n",
        "images = digits.images[-test_number:]\r\n",
        "for i in range(12):\r\n",
        "    plt.subplot(3, 4, i + 1)\r\n",
        "    plt.axis(\"off\")\r\n",
        "    plt.imshow(images[i], cmap=plt.cm.gray_r, interpolation=\"nearest\")\r\n",
        "    plt.title(\"Guess: \" + str(predited[i]))\r\n",
        "plt.show()\r\n"
      ],
      "outputs": [],
      "execution_count": null,
      "metadata": {
        "jupyter": {
          "source_hidden": false,
          "outputs_hidden": false
        },
        "nteract": {
          "transient": {
            "deleting": false
          }
        },
        "gather": {
          "logged": 1656921757005
        }
      }
    }
  ],
  "metadata": {
    "kernelspec": {
      "display_name": "Python 3.8 - AzureML",
      "language": "python",
      "name": "python38-azureml"
    },
    "language_info": {
      "codemirror_mode": {
        "name": "ipython",
        "version": 3
      },
      "file_extension": ".py",
      "mimetype": "text/x-python",
      "name": "python",
      "nbconvert_exporter": "python",
      "pygments_lexer": "ipython3",
      "version": "3.8.1"
    },
    "nteract": {
      "version": "nteract-front-end@1.0.0"
    }
  },
  "nbformat": 4,
  "nbformat_minor": 2
}